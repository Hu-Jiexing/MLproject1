{
 "cells": [
  {
   "cell_type": "code",
   "execution_count": 12,
   "metadata": {},
   "outputs": [
    {
     "name": "stdout",
     "output_type": "stream",
     "text": [
      "k value: 4\n",
      "Average Cross-Validation Score: 0.8879310344827585\n",
      "Cross-Validation Scores for each fold: [0.89655172 0.93103448 0.86206897 0.86206897]\n"
     ]
    }
   ],
   "source": [
    "# Import libraries\n",
    "import os \n",
    "import numpy as np\n",
    "import pandas as pd\n",
    "import seaborn as sns\n",
    "import matplotlib.pyplot as plt\n",
    "from sklearn.ensemble import RandomForestClassifier\n",
    "from sklearn.model_selection import train_test_split\n",
    "from sklearn.model_selection import StratifiedKFold as sk\n",
    "from sklearn.preprocessing import StandardScaler\n",
    "from sklearn.metrics import classification_report\n",
    "from sklearn.metrics import confusion_matrix\n",
    "from sklearn import datasets\n",
    "from sklearn.metrics import accuracy_score as acs\n",
    "from sklearn.tree import export_graphviz\n",
    "from matplotlib.colors import ListedColormap\n",
    "from sklearn.model_selection import KFold, cross_val_score\n",
    "from sklearn.tree import DecisionTreeClassifier\n",
    "\n",
    "\n",
    "df = pd.read_csv('cleaneddata.csv')\n",
    "\n",
    "# Convert to data frame\n",
    "X = df.drop('Condition', axis=1)  # Features (dropping the target 'Condition')\n",
    "y = df['Condition']               # Target column\n",
    "\n",
    "# Get feature names from DataFrame columns\n",
    "feature_names = X.columns.tolist()\n",
    "\n",
    "# Define class names dynamically based on unique values in 'Condition'\n",
    "class_names = y.unique().astype(str).tolist()  # Automatically get class names from target\n",
    "\n",
    "# Initialize the model\n",
    "model = DecisionTreeClassifier()\n",
    "\n",
    "# Set up K-Fold Cross-Validation\n",
    "k = 4  # You can change this to any number of folds, e.g., 10\n",
    "kf = KFold(n_splits=k, shuffle=True, random_state=42)\n",
    "\n",
    "# Perform K-Fold Cross-Validation\n",
    "cv_scores = cross_val_score(model, X, y, cv=kf)\n",
    "\n",
    "# Print the results\n",
    "print(f'k value: {k}')\n",
    "print(f'Average Cross-Validation Score: {np.mean(cv_scores)}')\n",
    "print(f'Cross-Validation Scores for each fold: {cv_scores}')\n"
   ]
  },
  {
   "cell_type": "code",
   "execution_count": null,
   "metadata": {},
   "outputs": [],
   "source": []
  }
 ],
 "metadata": {
  "kernelspec": {
   "display_name": "Python 3",
   "language": "python",
   "name": "python3"
  },
  "language_info": {
   "codemirror_mode": {
    "name": "ipython",
    "version": 3
   },
   "file_extension": ".py",
   "mimetype": "text/x-python",
   "name": "python",
   "nbconvert_exporter": "python",
   "pygments_lexer": "ipython3",
   "version": "3.12.7"
  }
 },
 "nbformat": 4,
 "nbformat_minor": 2
}
